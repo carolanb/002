{
 "cells": [
  {
   "cell_type": "markdown",
   "metadata": {},
   "source": [
    "# Resultados"
   ]
  },
  {
   "cell_type": "markdown",
   "metadata": {},
   "source": [
    "## Solución"
   ]
  },
  {
   "cell_type": "markdown",
   "metadata": {},
   "source": [
    "Este proyecto tiene como objetivo investigar la efectividad y aplicación de los clasificadores en la creación de estrategias de trading. Aprovechando los avances en el aprendizaje de la automatización, este proyecto se sumerge en un análisis detallado. El enfoque principal se centra en maximizar la rentabilidad y el rendimiento mediante la implementación y ajuste de varias estrategias.\n",
    "\n",
    "El proyecto examina la eficacia de las metodologías al desglosar y comparar múltiples estrategias. En este caso se usaron las siguientes: \n",
    "\n",
    "1. RSI (Relative Strength Index): El Índice de Fuerza Relativa es un indicador de momentum que mide la velocidad y el cambio de los movimientos de los precios. Un valor por encima de 70 generalmente indica sobrecompra, mientras que un valor por debajo de 30 indica sobreventa.\n",
    "\n",
    "\n",
    "2. BB (Bollinger Bands): Las Bandas de Bollinger son un indicador de volatilidad que consiste en una banda superiory una banda inferior. Las bandas superior e inferior se calculan agregando y restando un múltiplo del desviación estándar de los precios de cierre de la banda media. Estas bandas se expanden y contraen según la volatilidad del mercado. Las bandas se calculan de la siguiente manera: \n",
    "\n",
    "    - Banda Superior: Sumas dos veces la desviación estándar a la media móvil.\n",
    "    - Banda Inferior: Restas dos veces la desviación estándar de la media móvil.\n",
    "    \n",
    "\n",
    "3. MM (Moving Average): El Promedio Móvil es un indicador que calcula el promedio de un conjunto de puntos de datos a lo largo de un período de tiempo específico. Las Medias Móviles se utilizan para suavizar las fluctuaciones en los datos y para identificar la dirección general de la tendencia de los precios. Las Medias Móviles también se calculan utilizando los precios de cierre durante un período de tiempo específico. Hay diferentes tipos de medias móviles, pero la más común es la media móvil simple (SMA). Esta se calcula de la siguiente manera:\n",
    "\n",
    "    - Suma los precios de cierre durante un período de tiempo específico.\n",
    "    - Divide la suma por el número de períodos.\n",
    "\n",
    "Mediante un análisis comparativo en profundidad, este proyecto se esfuerza por descubrir información detallada sobre las estrategias de trading. Examina las habilidades de los modelos para adaptarse a las dinámicas cambiantes del mercado, mitigar riesgos y maximizar retornos.\n",
    "\n",
    "La documentación del proyecto abarca una investigación de múltiples estrategias, mostrando una visión integral de sus fortalezas, debilidades y aplicaciones potenciales en escenarios de trading del mundo real. Además, tiene como objetivo proporcionar un informe claro y completo que detalla el recorrido, descubrimientos e ideas obtenidos a lo largo de esta exploración rigurosa."
   ]
  },
  {
   "cell_type": "markdown",
   "metadata": {},
   "source": [
    "## Gráfica"
   ]
  },
  {
   "cell_type": "markdown",
   "metadata": {},
   "source": [
    "![Resultados](Grafica.jpeg)"
   ]
  },
  {
   "cell_type": "markdown",
   "metadata": {},
   "source": [
    "![Resultados sin Media Movil](Grafica_SIN_MM.jpeg)"
   ]
  },
  {
   "cell_type": "markdown",
   "metadata": {},
   "source": [
    "El gráfico y la tabla numérica muestran el valor de un portafolio gestionado con diferentes estrategias de trading basadas en indicadores técnicos sobre un periodo de tiempo. La estrategia de Medias Móviles sobresale con un crecimiento exponencial, mientras que las demás estrategias apenas superan el capital inicial.\n",
    "\n",
    "Esto sugiere que, en el periodo de tiempo y el conjunto de datos analizados, una estrategia de cruce de medias móviles ha sido mucho más efectiva que las otras estrategias, ya sea individualmente o en combinación.\n",
    "\n",
    "La tabla numérica refuerza este punto mostrando que la columna correspondiente a 'MM' presenta los valores más altos hacia el final del conjunto de datos; esto podría indicar que la estrategia de MM ha capturado con éxito tendencias más largas o ha evitado pérdidas significativas durante periodos de volatilidad del mercado.\n",
    "\n",
    "La superioridad de la estrategia basada en MM en este escenario particular podría deberse a su capacidad para seguir tendencias a largo plazo, lo cual suele ser una estrategia preferida en mercados con direccionalidad clara, sin embargo, es crucial realizar pruebas adicionales en diferentes periodos de tiempo y condiciones de mercado antes de concluir la efectividad general de esta estrategia. \n",
    "\n",
    "Además, es importante considerar los riesgos inherentes, como la posibilidad de que esta estrategia no funcione tan bien en mercados laterales o altamente volátiles."
   ]
  },
  {
   "cell_type": "code",
   "execution_count": 1,
   "metadata": {},
   "outputs": [
    {
     "name": "stderr",
     "output_type": "stream",
     "text": [
      "c:\\Users\\joalf\\AppData\\Local\\Programs\\Python\\Python310\\lib\\site-packages\\tqdm\\auto.py:21: TqdmWarning: IProgress not found. Please update jupyter and ipywidgets. See https://ipywidgets.readthedocs.io/en/stable/user_install.html\n",
      "  from .autonotebook import tqdm as notebook_tqdm\n"
     ]
    }
   ],
   "source": [
    "# from technical_analysis.main import perform\n",
    "# # from technical_analysis.main import optimization_function\n",
    "\n",
    "from technical_analysis.main import perform, create_optimization_function\n",
    "\n",
    "import pandas as pd\n",
    "import optuna\n",
    "import matplotlib.pyplot as plt"
   ]
  },
  {
   "cell_type": "code",
   "execution_count": 2,
   "metadata": {},
   "outputs": [],
   "source": [
    "# Preprocesamiento de tus datos\n",
    "data = pd.read_csv('data/aapl_5m_train.csv')\n",
    "data = data.head(2000) \n",
    "data_validation = pd.read_csv('data/aapl_5m_test.csv')\n",
    "data_validation = data_validation.head(1000)"
   ]
  },
  {
   "cell_type": "code",
   "execution_count": 3,
   "metadata": {},
   "outputs": [
    {
     "name": "stderr",
     "output_type": "stream",
     "text": [
      "[I 2024-03-22 13:58:59,003] A new study created in memory with name: no-name-5b1fd0cb-598c-4e05-a5b8-c5a4bf8aacbb\n",
      "[I 2024-03-22 13:59:33,253] Trial 0 finished with value: -1008200.6333528622 and parameters: {'rsi_buy': 22, 'rsi_sell': 73, 'bb_window': 24, 'mm_short_window': 34, 'mm_long_window': 200, 'commission': 0.0018774122911432286, 'stop_loss': 0.06624348832967974, 'take_profit': 0.044577383252129704}. Best is trial 0 with value: -1008200.6333528622.\n",
      "[I 2024-03-22 14:00:06,238] Trial 1 finished with value: -1004378.9095167618 and parameters: {'rsi_buy': 39, 'rsi_sell': 63, 'bb_window': 16, 'mm_short_window': 29, 'mm_long_window': 127, 'commission': 0.001016192559398974, 'stop_loss': 0.03172707034236247, 'take_profit': 0.05682589545676231}. Best is trial 0 with value: -1008200.6333528622.\n",
      "[I 2024-03-22 14:00:29,199] Trial 2 finished with value: -1000807.5575911273 and parameters: {'rsi_buy': 17, 'rsi_sell': 84, 'bb_window': 23, 'mm_short_window': 20, 'mm_long_window': 134, 'commission': 0.003422952915301782, 'stop_loss': 0.024319057968025293, 'take_profit': 0.07104077983827288}. Best is trial 0 with value: -1008200.6333528622.\n",
      "[I 2024-03-22 14:01:07,872] Trial 3 finished with value: -1025150.7720936447 and parameters: {'rsi_buy': 10, 'rsi_sell': 63, 'bb_window': 20, 'mm_short_window': 22, 'mm_long_window': 117, 'commission': 0.0029870467659514543, 'stop_loss': 0.07323437073075241, 'take_profit': 0.06074635502364173}. Best is trial 3 with value: -1025150.7720936447.\n"
     ]
    }
   ],
   "source": [
    "# Crear una instancia de la función de optimización con los datos cargados\n",
    "optimization_function_with_data = create_optimization_function(data)\n",
    "\n",
    "# Ahora, pasamos la función directamente sin llamarla\n",
    "study = optuna.create_study()\n",
    "study.optimize(optimization_function_with_data, n_trials=5)\n",
    "\n",
    "print(\"Mejores parámetros:\", study.best_params)"
   ]
  },
  {
   "cell_type": "code",
   "execution_count": null,
   "metadata": {},
   "outputs": [],
   "source": [
    "best_params = study.best_params\n",
    "best_value = -study.best_value"
   ]
  },
  {
   "cell_type": "code",
   "execution_count": null,
   "metadata": {},
   "outputs": [],
   "source": [
    "rsi_thresholds = (best_params['rsi_buy'], best_params['rsi_sell'])\n",
    "\n",
    "bb_window = best_params['bb_window']\n",
    "mm_windows = (best_params['mm_short_window'], best_params['mm_long_window'])  # Corrige las claves aquí\n",
    "commission = best_params['commission']\n",
    "stop_loss = best_params['stop_loss']\n",
    "take_profit = best_params['take_profit']\n",
    "\n",
    "df_results, strategy_dfs, combined_values_df = perform(\n",
    "    data_validation, rsi_thresholds, bb_window, mm_windows, commission, stop_loss, take_profit)\n",
    "\n",
    "best_strategy = df_results.iloc[df_results['gain'].idxmax()]['strategy']  # Suponiendo que 'gain' es tu métrica de rendimiento.\n",
    "best_strategy_df = strategy_dfs[best_strategy]\n",
    "\n",
    "df_results.sort_values(by='gain', ascending=False) "
   ]
  },
  {
   "cell_type": "code",
   "execution_count": null,
   "metadata": {},
   "outputs": [],
   "source": [
    "plt.figure(figsize=(14, 7))\n",
    "plt.plot(combined_values_df, label='Valor del Portafolio')\n",
    "plt.title(f\"Valor del Portafolio a lo Largo del Tiempo\")\n",
    "plt.xlabel('Tiempo')\n",
    "plt.ylabel('Valor del Portafolio')\n",
    "plt.legend(combined_values_df.columns)\n",
    "plt.show()"
   ]
  }
 ],
 "metadata": {
  "kernelspec": {
   "display_name": "Python 3",
   "language": "python",
   "name": "python3"
  },
  "language_info": {
   "codemirror_mode": {
    "name": "ipython",
    "version": 3
   },
   "file_extension": ".py",
   "mimetype": "text/x-python",
   "name": "python",
   "nbconvert_exporter": "python",
   "pygments_lexer": "ipython3",
   "version": "3.10.4"
  }
 },
 "nbformat": 4,
 "nbformat_minor": 2
}
