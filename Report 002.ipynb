{
 "cells": [
  {
   "cell_type": "markdown",
   "metadata": {},
   "source": [
    "# Resultados"
   ]
  },
  {
   "cell_type": "markdown",
   "metadata": {},
   "source": [
    "## Solución"
   ]
  },
  {
   "cell_type": "markdown",
   "metadata": {},
   "source": [
    "Este proyecto tiene como objetivo investigar la efectividad y aplicación de los clasificadores en la creación de estrategias de trading. Aprovechando los avances en el aprendizaje de la automatización, este proyecto se sumerge en un análisis detallado. El enfoque principal se centra en maximizar la rentabilidad y el rendimiento mediante la implementación y ajuste de varias estrategias.\n",
    "\n",
    "El proyecto examina la eficacia de las metodologías al desglosar y comparar múltiples estrategias. En este caso se usaron las siguientes: \n",
    "\n",
    "1. RSI (Relative Strength Index): El Índice de Fuerza Relativa es un indicador de momentum que mide la velocidad y el cambio de los movimientos de los precios. Un valor por encima de 70 generalmente indica sobrecompra, mientras que un valor por debajo de 30 indica sobreventa.\n",
    "\n",
    "\n",
    "2. BB (Bollinger Bands): Las Bandas de Bollinger son un indicador de volatilidad que consiste en una banda superiory una banda inferior. Las bandas superior e inferior se calculan agregando y restando un múltiplo del desviación estándar de los precios de cierre de la banda media. Estas bandas se expanden y contraen según la volatilidad del mercado. Las bandas se calculan de la siguiente manera: \n",
    "\n",
    "    - Banda Superior: Sumas dos veces la desviación estándar a la media móvil.\n",
    "    - Banda Inferior: Restas dos veces la desviación estándar de la media móvil.\n",
    "    \n",
    "\n",
    "3. MM (Moving Average): El Promedio Móvil es un indicador que calcula el promedio de un conjunto de puntos de datos a lo largo de un período de tiempo específico. Las Medias Móviles se utilizan para suavizar las fluctuaciones en los datos y para identificar la dirección general de la tendencia de los precios. Las Medias Móviles también se calculan utilizando los precios de cierre durante un período de tiempo específico. Hay diferentes tipos de medias móviles, pero la más común es la media móvil simple (SMA). Esta se calcula de la siguiente manera:\n",
    "\n",
    "    - Suma los precios de cierre durante un período de tiempo específico.\n",
    "    - Divide la suma por el número de períodos.\n",
    "\n",
    "Mediante un análisis comparativo en profundidad, este proyecto se esfuerza por descubrir información detallada sobre las estrategias de trading. Examina las habilidades de los modelos para adaptarse a las dinámicas cambiantes del mercado, mitigar riesgos y maximizar retornos.\n",
    "\n",
    "La documentación del proyecto abarca una investigación de múltiples estrategias, mostrando una visión integral de sus fortalezas, debilidades y aplicaciones potenciales en escenarios de trading del mundo real. Además, tiene como objetivo proporcionar un informe claro y completo que detalla el recorrido, descubrimientos e ideas obtenidos a lo largo de esta exploración rigurosa."
   ]
  },
  {
   "cell_type": "markdown",
   "metadata": {},
   "source": [
    "## Gráfica"
   ]
  },
  {
   "cell_type": "markdown",
   "metadata": {},
   "source": [
    "![Resultados](Grafica.jpeg)"
   ]
  },
  {
   "cell_type": "markdown",
   "metadata": {},
   "source": [
    "![Resultados sin Media Movil](Grafica_SIN_MM.jpeg)"
   ]
  },
  {
   "cell_type": "markdown",
   "metadata": {},
   "source": [
    "El gráfico y la tabla numérica muestran el valor de un portafolio gestionado con diferentes estrategias de trading basadas en indicadores técnicos sobre un periodo de tiempo. La estrategia de Medias Móviles sobresale con un crecimiento exponencial, mientras que las demás estrategias apenas superan el capital inicial.\n",
    "\n",
    "Esto sugiere que, en el periodo de tiempo y el conjunto de datos analizados, una estrategia de cruce de medias móviles ha sido mucho más efectiva que las otras estrategias, ya sea individualmente o en combinación.\n",
    "\n",
    "La tabla numérica refuerza este punto mostrando que la columna correspondiente a 'MM' presenta los valores más altos hacia el final del conjunto de datos; esto podría indicar que la estrategia de MM ha capturado con éxito tendencias más largas o ha evitado pérdidas significativas durante periodos de volatilidad del mercado.\n",
    "\n",
    "La superioridad de la estrategia basada en MM en este escenario particular podría deberse a su capacidad para seguir tendencias a largo plazo, lo cual suele ser una estrategia preferida en mercados con direccionalidad clara, sin embargo, es crucial realizar pruebas adicionales en diferentes periodos de tiempo y condiciones de mercado antes de concluir la efectividad general de esta estrategia. \n",
    "\n",
    "Además, es importante considerar los riesgos inherentes, como la posibilidad de que esta estrategia no funcione tan bien en mercados laterales o altamente volátiles."
   ]
  },
  {
   "cell_type": "code",
   "execution_count": 11,
   "metadata": {},
   "outputs": [],
   "source": [
    "# from technical_analysis.main import perform\n",
    "# # from technical_analysis.main import optimization_function\n",
    "\n",
    "from technical_analysis.main import perform, optimization_function\n",
    "\n",
    "import pandas as pd\n",
    "import optuna\n",
    "import matplotlib.pyplot as plt"
   ]
  },
  {
   "cell_type": "code",
   "execution_count": 12,
   "metadata": {},
   "outputs": [],
   "source": [
    "# Preprocesamiento de tus datos\n",
    "data = pd.read_csv('data/aapl_5m_train.csv')\n",
    "data = data.head(2000)\n",
    "data_validation = pd.read_csv('data/aapl_5m_test.csv')\n",
    "data_validation = data_validation.head(1000)"
   ]
  },
  {
   "cell_type": "code",
   "execution_count": 13,
   "metadata": {},
   "outputs": [
    {
     "name": "stderr",
     "output_type": "stream",
     "text": [
      "[I 2024-03-22 13:33:07,175] A new study created in memory with name: no-name-59be2fb9-2845-499f-a184-a5ae15fdbe96\n"
     ]
    },
    {
     "ename": "TypeError",
     "evalue": "optimization_function() missing 1 required positional argument: 'train'",
     "output_type": "error",
     "traceback": [
      "\u001b[1;31m---------------------------------------------------------------------------\u001b[0m",
      "\u001b[1;31mTypeError\u001b[0m                                 Traceback (most recent call last)",
      "Input \u001b[1;32mIn [13]\u001b[0m, in \u001b[0;36m<cell line: 2>\u001b[1;34m()\u001b[0m\n\u001b[0;32m      1\u001b[0m study \u001b[38;5;241m=\u001b[39m optuna\u001b[38;5;241m.\u001b[39mcreate_study()\n\u001b[1;32m----> 2\u001b[0m study\u001b[38;5;241m.\u001b[39moptimize(\u001b[43moptimization_function\u001b[49m\u001b[43m(\u001b[49m\u001b[43mdata\u001b[49m\u001b[38;5;241;43m=\u001b[39;49m\u001b[43mdata\u001b[49m\u001b[43m)\u001b[49m, n_trials\u001b[38;5;241m=\u001b[39m\u001b[38;5;241m5\u001b[39m)  \u001b[38;5;66;03m# Ajusta el número de pruebas según sea necesario\u001b[39;00m\n\u001b[0;32m      4\u001b[0m \u001b[38;5;28mprint\u001b[39m(\u001b[38;5;124m\"\u001b[39m\u001b[38;5;124mMejores parámetros:\u001b[39m\u001b[38;5;124m\"\u001b[39m, study\u001b[38;5;241m.\u001b[39mbest_params)\n",
      "\u001b[1;31mTypeError\u001b[0m: optimization_function() missing 1 required positional argument: 'train'"
     ]
    }
   ],
   "source": [
    "study = optuna.create_study()\n",
    "study.optimize(optimization_function(), n_trials=5)  # Ajusta el número de pruebas según sea necesario\n",
    "\n",
    "print(\"Mejores parámetros:\", study.best_params)"
   ]
  },
  {
   "cell_type": "code",
   "execution_count": null,
   "metadata": {},
   "outputs": [],
   "source": [
    "best_params = study.best_params\n",
    "best_value = -study.best_value"
   ]
  },
  {
   "cell_type": "code",
   "execution_count": null,
   "metadata": {},
   "outputs": [],
   "source": [
    "rsi_thresholds = (best_params['rsi_buy'], best_params['rsi_sell'])\n",
    "\n",
    "bb_window = best_params['bb_window']\n",
    "mm_windows = (best_params['mm_short_window'], best_params['mm_long_window'])  # Corrige las claves aquí\n",
    "commission = best_params['commission']\n",
    "stop_loss = best_params['stop_loss']\n",
    "take_profit = best_params['take_profit']\n",
    "\n",
    "df_results, strategy_dfs, combined_values_df = perform(\n",
    "    data_validation, rsi_thresholds, bb_window, mm_windows, commission, stop_loss, take_profit)\n",
    "\n",
    "best_strategy = df_results.iloc[df_results['gain'].idxmax()]['strategy']  # Suponiendo que 'gain' es tu métrica de rendimiento.\n",
    "best_strategy_df = strategy_dfs[best_strategy]\n",
    "\n",
    "df_results.sort_values(by='gain', ascending=False) "
   ]
  },
  {
   "cell_type": "code",
   "execution_count": null,
   "metadata": {},
   "outputs": [],
   "source": [
    "plt.figure(figsize=(14, 7))\n",
    "plt.plot(combined_values_df, label='Valor del Portafolio')\n",
    "plt.title(f\"Valor del Portafolio a lo Largo del Tiempo\")\n",
    "plt.xlabel('Tiempo')\n",
    "plt.ylabel('Valor del Portafolio')\n",
    "plt.legend(combined_values_df.columns)\n",
    "plt.show()"
   ]
  }
 ],
 "metadata": {
  "kernelspec": {
   "display_name": "Python 3",
   "language": "python",
   "name": "python3"
  },
  "language_info": {
   "codemirror_mode": {
    "name": "ipython",
    "version": 3
   },
   "file_extension": ".py",
   "mimetype": "text/x-python",
   "name": "python",
   "nbconvert_exporter": "python",
   "pygments_lexer": "ipython3",
   "version": "3.10.4"
  }
 },
 "nbformat": 4,
 "nbformat_minor": 2
}
