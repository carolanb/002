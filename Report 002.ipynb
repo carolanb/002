{
 "cells": [
  {
   "cell_type": "markdown",
   "metadata": {},
   "source": [
    "# Resultados"
   ]
  },
  {
   "cell_type": "markdown",
   "metadata": {},
   "source": [
    "## Gráfica"
   ]
  },
  {
   "cell_type": "code",
   "execution_count": null,
   "metadata": {},
   "outputs": [],
   "source": []
  },
  {
   "cell_type": "markdown",
   "metadata": {},
   "source": [
    "## Solución"
   ]
  },
  {
   "cell_type": "markdown",
   "metadata": {},
   "source": [
    "Este proyecto tiene como objetivo investigar la efectividad y aplicación de los clasificadores en la creación de estrategias de trading. Aprovechando los avances en el aprendizaje de la automatización, este proyecto se sumerge en un análisis detallado. El enfoque principal se centra en maximizar la rentabilidad y el rendimiento mediante la implementación y ajuste de varias estrategias.\n",
    "\n",
    "El proyecto examina la eficacia de las metodologías al desglosar y comparar múltiples estrategias. En este caso se usaron las siguientes: \n",
    "\n",
    "1. RSI (Relative Strength Index): El Índice de Fuerza Relativa es un indicador de momentum que mide la velocidad y el cambio de los movimientos de los precios. Un valor por encima de 70 generalmente indica sobrecompra, mientras que un valor por debajo de 30 indica sobreventa.\n",
    "\n",
    "\n",
    "2. BB (Bollinger Bands): Las Bandas de Bollinger son un indicador de volatilidad que consiste en una banda superiory una banda inferior. Las bandas superior e inferior se calculan agregando y restando un múltiplo del desviación estándar de los precios de cierre de la banda media. Estas bandas se expanden y contraen según la volatilidad del mercado. Las bandas se calculan de la siguiente manera: \n",
    "\n",
    "    - Banda Superior: Sumas dos veces la desviación estándar a la media móvil.\n",
    "    - Banda Inferior: Restas dos veces la desviación estándar de la media móvil.\n",
    "    \n",
    "\n",
    "3. MM (Moving Average): El Promedio Móvil es un indicador que calcula el promedio de un conjunto de puntos de datos a lo largo de un período de tiempo específico. Las Medias Móviles se utilizan para suavizar las fluctuaciones en los datos y para identificar la dirección general de la tendencia de los precios. Las Medias Móviles también se calculan utilizando los precios de cierre durante un período de tiempo específico. Hay diferentes tipos de medias móviles, pero la más común es la media móvil simple (SMA). Esta se calcula de la siguiente manera:\n",
    "\n",
    "    - Suma los precios de cierre durante un período de tiempo específico.\n",
    "    - Divide la suma por el número de períodos.\n",
    "\n",
    "Mediante un análisis comparativo en profundidad, este proyecto se esfuerza por descubrir información detallada sobre las estrategias de trading. Examina las habilidades de los modelos para adaptarse a las dinámicas cambiantes del mercado, mitigar riesgos y maximizar retornos.\n",
    "\n",
    "La documentación del proyecto abarca una investigación de múltiples estrategias, mostrando una visión integral de sus fortalezas, debilidades y aplicaciones potenciales en escenarios de trading del mundo real. Además, tiene como objetivo proporcionar un informe claro y completo que detalla el recorrido, descubrimientos e ideas obtenidos a lo largo de esta exploración rigurosa."
   ]
  }
 ],
 "metadata": {
  "kernelspec": {
   "display_name": "Python 3",
   "language": "python",
   "name": "python3"
  },
  "language_info": {
   "codemirror_mode": {
    "name": "ipython",
    "version": 3
   },
   "file_extension": ".py",
   "mimetype": "text/x-python",
   "name": "python",
   "nbconvert_exporter": "python",
   "pygments_lexer": "ipython3",
   "version": "3.7.7"
  }
 },
 "nbformat": 4,
 "nbformat_minor": 2
}
