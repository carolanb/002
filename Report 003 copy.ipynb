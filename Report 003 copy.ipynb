{
 "cells": [
  {
   "cell_type": "markdown",
   "metadata": {},
   "source": [
    "# Resultados"
   ]
  },
  {
   "cell_type": "markdown",
   "metadata": {},
   "source": [
    "## Solución"
   ]
  },
  {
   "cell_type": "markdown",
   "metadata": {},
   "source": []
  },
  {
   "cell_type": "markdown",
   "metadata": {},
   "source": [
    "## Librerias "
   ]
  },
  {
   "cell_type": "code",
   "execution_count": null,
   "metadata": {},
   "outputs": [],
   "source": [
    "from ML.main import perform \n",
    "from ML.main import perform_validation\n",
    "\n",
    "import pandas as pd\n",
    "import matplotlib.pyplot as plt"
   ]
  },
  {
   "cell_type": "markdown",
   "metadata": {},
   "source": [
    "## Variables globales"
   ]
  },
  {
   "cell_type": "code",
   "execution_count": null,
   "metadata": {},
   "outputs": [],
   "source": [
    "commission_value = 0.0025\n",
    "take_profit_value = 0.05\n",
    "stop_loss_value = 0.05"
   ]
  },
  {
   "cell_type": "markdown",
   "metadata": {},
   "source": [
    "## Data 1 D"
   ]
  },
  {
   "cell_type": "code",
   "execution_count": null,
   "metadata": {},
   "outputs": [],
   "source": [
    "# Preprocesamiento de tus datos\n",
    "data = pd.read_csv('data/aapl_1d_train.csv')\n",
    "data_validation = pd.read_csv('data/aapl_1d_test.csv')\n",
    "\n",
    "data['Timestamp'] = pd.to_datetime(data['Date'])\n",
    "data_validation['Timestamp'] = pd.to_datetime(data_validation['Date'])"
   ]
  },
  {
   "cell_type": "markdown",
   "metadata": {},
   "source": [
    "### Train"
   ]
  },
  {
   "cell_type": "code",
   "execution_count": null,
   "metadata": {},
   "outputs": [],
   "source": [
    "df_results, strategy_dfs, combined_values_df, best_model_params = perform(data=data, commission= 0.001, stop_loss = 0.05, take_profit = 0.05)"
   ]
  },
  {
   "cell_type": "code",
   "execution_count": null,
   "metadata": {},
   "outputs": [],
   "source": [
    "df_results"
   ]
  },
  {
   "cell_type": "code",
   "execution_count": null,
   "metadata": {},
   "outputs": [],
   "source": [
    "combined_values_df.head()"
   ]
  },
  {
   "cell_type": "code",
   "execution_count": null,
   "metadata": {},
   "outputs": [],
   "source": [
    "# Valor del Portafolio a lo Largo del Tiempo\n",
    "\n",
    "plt.figure(figsize=(8, 5))\n",
    "plt.plot(combined_values_df, label='Valor del Portafolio')\n",
    "plt.title(f\"Valor del Portafolio a lo Largo del Tiempo\")\n",
    "plt.xlabel('Tiempo')\n",
    "plt.ylabel('Valor del Portafolio')\n",
    "plt.legend(combined_values_df.columns)\n",
    "plt.show()"
   ]
  },
  {
   "cell_type": "markdown",
   "metadata": {},
   "source": [
    "### Test"
   ]
  },
  {
   "cell_type": "code",
   "execution_count": null,
   "metadata": {},
   "outputs": [],
   "source": [
    "df_results, strategy_dfs, combined_values_df = perform_validation(data_validation, commission= 0.001, stop_loss = 0.05, take_profit = 0.05, model_params= best_model_params)\n"
   ]
  },
  {
   "cell_type": "code",
   "execution_count": null,
   "metadata": {},
   "outputs": [],
   "source": [
    "df_results"
   ]
  },
  {
   "cell_type": "code",
   "execution_count": null,
   "metadata": {},
   "outputs": [],
   "source": [
    "plt.figure(figsize=(8, 5))\n",
    "plt.plot(combined_values_df, label='Valor del Portafolio')\n",
    "plt.title(f\"Valor del Portafolio a lo Largo del Tiempo\")\n",
    "plt.xlabel('Tiempo')\n",
    "plt.ylabel('Valor del Portafolio')\n",
    "plt.legend(combined_values_df.columns)\n",
    "plt.show()"
   ]
  },
  {
   "cell_type": "markdown",
   "metadata": {},
   "source": [
    "## Data 1 H"
   ]
  },
  {
   "cell_type": "code",
   "execution_count": null,
   "metadata": {},
   "outputs": [],
   "source": [
    "# Preprocesamiento de tus datos\n",
    "data = pd.read_csv('data/aapl_1h_train.csv')\n",
    "data_validation = pd.read_csv('data/aapl_1h_test.csv')"
   ]
  },
  {
   "cell_type": "markdown",
   "metadata": {},
   "source": [
    "### Train"
   ]
  },
  {
   "cell_type": "code",
   "execution_count": null,
   "metadata": {},
   "outputs": [],
   "source": [
    "df_results, strategy_dfs, combined_values_df, best_model_params = perform(data=data, commission= 0.001, stop_loss = 0.05, take_profit = 0.05)"
   ]
  },
  {
   "cell_type": "code",
   "execution_count": null,
   "metadata": {},
   "outputs": [],
   "source": [
    "df_results"
   ]
  },
  {
   "cell_type": "code",
   "execution_count": null,
   "metadata": {},
   "outputs": [],
   "source": [
    "combined_values_df.head()"
   ]
  },
  {
   "cell_type": "code",
   "execution_count": null,
   "metadata": {},
   "outputs": [],
   "source": [
    "# Valor del Portafolio a lo Largo del Tiempo\n",
    "\n",
    "plt.figure(figsize=(8, 5))\n",
    "plt.plot(combined_values_df, label='Valor del Portafolio')\n",
    "plt.title(f\"Valor del Portafolio a lo Largo del Tiempo\")\n",
    "plt.xlabel('Tiempo')\n",
    "plt.ylabel('Valor del Portafolio')\n",
    "plt.legend(combined_values_df.columns)\n",
    "plt.show()"
   ]
  },
  {
   "cell_type": "markdown",
   "metadata": {},
   "source": [
    "### Test"
   ]
  },
  {
   "cell_type": "code",
   "execution_count": null,
   "metadata": {},
   "outputs": [],
   "source": [
    "df_results, strategy_dfs, combined_values_df = perform_validation(data_validation, commission= 0.001, stop_loss = 0.05, take_profit = 0.05, model_params= best_model_params)\n"
   ]
  },
  {
   "cell_type": "code",
   "execution_count": null,
   "metadata": {},
   "outputs": [],
   "source": [
    "df_results"
   ]
  },
  {
   "cell_type": "code",
   "execution_count": null,
   "metadata": {},
   "outputs": [],
   "source": [
    "plt.figure(figsize=(8, 5))\n",
    "plt.plot(combined_values_df, label='Valor del Portafolio')\n",
    "plt.title(f\"Valor del Portafolio a lo Largo del Tiempo\")\n",
    "plt.xlabel('Tiempo')\n",
    "plt.ylabel('Valor del Portafolio')\n",
    "plt.legend(combined_values_df.columns)\n",
    "plt.show()"
   ]
  },
  {
   "cell_type": "markdown",
   "metadata": {},
   "source": [
    "## Data 5 min"
   ]
  },
  {
   "cell_type": "code",
   "execution_count": null,
   "metadata": {},
   "outputs": [],
   "source": [
    "# Preprocesamiento de tus datos\n",
    "data = pd.read_csv('data/aapl_5m_train.csv')\n",
    "data_validation = pd.read_csv('data/aapl_5m_test.csv')"
   ]
  },
  {
   "cell_type": "markdown",
   "metadata": {},
   "source": [
    "### Train"
   ]
  },
  {
   "cell_type": "code",
   "execution_count": null,
   "metadata": {},
   "outputs": [],
   "source": [
    "df_results, strategy_dfs, combined_values_df, best_model_params = perform(data=data, commission= 0.001, stop_loss = 0.05, take_profit = 0.05)"
   ]
  },
  {
   "cell_type": "code",
   "execution_count": null,
   "metadata": {},
   "outputs": [],
   "source": [
    "df_results"
   ]
  },
  {
   "cell_type": "code",
   "execution_count": null,
   "metadata": {},
   "outputs": [],
   "source": [
    "combined_values_df.head()"
   ]
  },
  {
   "cell_type": "code",
   "execution_count": null,
   "metadata": {},
   "outputs": [],
   "source": [
    "# Valor del Portafolio a lo Largo del Tiempo\n",
    "\n",
    "plt.figure(figsize=(8, 5))\n",
    "plt.plot(combined_values_df, label='Valor del Portafolio')\n",
    "plt.title(f\"Valor del Portafolio a lo Largo del Tiempo\")\n",
    "plt.xlabel('Tiempo')\n",
    "plt.ylabel('Valor del Portafolio')\n",
    "plt.legend(combined_values_df.columns)\n",
    "plt.show()"
   ]
  },
  {
   "cell_type": "markdown",
   "metadata": {},
   "source": [
    "# Test"
   ]
  },
  {
   "cell_type": "code",
   "execution_count": null,
   "metadata": {},
   "outputs": [],
   "source": [
    "df_results, strategy_dfs, combined_values_df = perform_validation(data_validation, commission= 0.001, stop_loss = 0.05, take_profit = 0.05, model_params= best_model_params)\n"
   ]
  },
  {
   "cell_type": "code",
   "execution_count": null,
   "metadata": {},
   "outputs": [],
   "source": [
    "df_results"
   ]
  },
  {
   "cell_type": "code",
   "execution_count": null,
   "metadata": {},
   "outputs": [],
   "source": [
    "plt.figure(figsize=(8, 5))\n",
    "plt.plot(combined_values_df, label='Valor del Portafolio')\n",
    "plt.title(f\"Valor del Portafolio a lo Largo del Tiempo\")\n",
    "plt.xlabel('Tiempo')\n",
    "plt.ylabel('Valor del Portafolio')\n",
    "plt.legend(combined_values_df.columns)\n",
    "plt.show()"
   ]
  },
  {
   "cell_type": "markdown",
   "metadata": {},
   "source": [
    "## Data 1 min"
   ]
  },
  {
   "cell_type": "code",
   "execution_count": null,
   "metadata": {},
   "outputs": [],
   "source": [
    "# Preprocesamiento de tus datos\n",
    "data = pd.read_csv('data/aapl_1m_train.csv')\n",
    "data_validation = pd.read_csv('data/aapl_1m_test.csv')"
   ]
  },
  {
   "cell_type": "markdown",
   "metadata": {},
   "source": [
    "### Train"
   ]
  },
  {
   "cell_type": "code",
   "execution_count": null,
   "metadata": {},
   "outputs": [],
   "source": [
    "df_results, strategy_dfs, combined_values_df, best_model_params = perform(data=data, commission= 0.001, stop_loss = 0.05, take_profit = 0.05)"
   ]
  },
  {
   "cell_type": "code",
   "execution_count": null,
   "metadata": {},
   "outputs": [],
   "source": [
    "df_results"
   ]
  },
  {
   "cell_type": "code",
   "execution_count": null,
   "metadata": {},
   "outputs": [],
   "source": [
    "combined_values_df.head()"
   ]
  },
  {
   "cell_type": "code",
   "execution_count": null,
   "metadata": {},
   "outputs": [],
   "source": [
    "# Valor del Portafolio a lo Largo del Tiempo\n",
    "\n",
    "plt.figure(figsize=(8, 5))\n",
    "plt.plot(combined_values_df, label='Valor del Portafolio')\n",
    "plt.title(f\"Valor del Portafolio a lo Largo del Tiempo\")\n",
    "plt.xlabel('Tiempo')\n",
    "plt.ylabel('Valor del Portafolio')\n",
    "plt.legend(combined_values_df.columns)\n",
    "plt.show()"
   ]
  },
  {
   "cell_type": "markdown",
   "metadata": {},
   "source": [
    "### Test"
   ]
  },
  {
   "cell_type": "code",
   "execution_count": null,
   "metadata": {},
   "outputs": [],
   "source": [
    "df_results, strategy_dfs, combined_values_df = perform_validation(data_validation, commission= 0.001, stop_loss = 0.05, take_profit = 0.05, model_params= best_model_params)\n"
   ]
  },
  {
   "cell_type": "code",
   "execution_count": null,
   "metadata": {},
   "outputs": [],
   "source": [
    "df_results"
   ]
  },
  {
   "cell_type": "code",
   "execution_count": null,
   "metadata": {},
   "outputs": [],
   "source": [
    "plt.figure(figsize=(8, 5))\n",
    "plt.plot(combined_values_df, label='Valor del Portafolio')\n",
    "plt.title(f\"Valor del Portafolio a lo Largo del Tiempo\")\n",
    "plt.xlabel('Tiempo')\n",
    "plt.ylabel('Valor del Portafolio')\n",
    "plt.legend(combined_values_df.columns)\n",
    "plt.show()"
   ]
  }
 ],
 "metadata": {
  "kernelspec": {
   "display_name": "Python 3",
   "language": "python",
   "name": "python3"
  },
  "language_info": {
   "codemirror_mode": {
    "name": "ipython",
    "version": 3
   },
   "file_extension": ".py",
   "mimetype": "text/x-python",
   "name": "python",
   "nbconvert_exporter": "python",
   "pygments_lexer": "ipython3",
   "version": "3.10.4"
  }
 },
 "nbformat": 4,
 "nbformat_minor": 2
}
